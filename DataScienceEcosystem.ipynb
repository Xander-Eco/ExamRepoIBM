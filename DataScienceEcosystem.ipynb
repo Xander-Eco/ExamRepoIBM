{
 "cells": [
  {
   "cell_type": "markdown",
   "id": "c3e78cef-fd52-4aec-90a5-3cca127faf2f",
   "metadata": {},
   "source": [
    "# Data Science Tools and Ecosystem"
   ]
  },
  {
   "cell_type": "markdown",
   "id": "2f44028a-84f0-424d-bf9c-5f47d01b9e61",
   "metadata": {},
   "source": [
    "In this notebook, Data Science Tools and Ecosystem are summarized."
   ]
  },
  {
   "cell_type": "markdown",
   "id": "677f5529-3ad2-41a0-8dab-8283497ff5f9",
   "metadata": {},
   "source": [
    "## Author\n",
    "Xander"
   ]
  },
  {
   "cell_type": "markdown",
   "id": "eb916ed9-0b21-4dc1-bfc1-13126d2f2189",
   "metadata": {},
   "source": [
    "**Objectives:**\n",
    "- List popular languages for Data Scientists\n",
    "- List common libraries used in data science\n",
    "- List data science tools\n",
    "- Demostrate arthmetic operations in Jupyter Notebooks"
   ]
  },
  {
   "cell_type": "markdown",
   "id": "130a32b4-d1c1-4a13-853c-df59df530a0a",
   "metadata": {},
   "source": [
    "Some of the popular languages that Data Scientists use are:\n",
    "1. Python\n",
    "2. SQL\n",
    "3. R"
   ]
  },
  {
   "cell_type": "markdown",
   "id": "1362c533-b252-4a69-85d0-a6aa2ba74d2e",
   "metadata": {},
   "source": [
    "Some of the commonly used libraries used by Data Scientists include:\n",
    "1. Numpy\n",
    "2. Scikit-learn\n",
    "3. ggplot\n",
    "4. Pandas\n",
    "5. dplyr"
   ]
  },
  {
   "cell_type": "markdown",
   "id": "251587e5-bed0-443e-a345-e438687073a6",
   "metadata": {
    "tags": []
   },
   "source": [
    "| Data Science Tools |\n",
    "| ------------------ |\n",
    "| Visual Studio Code |\n",
    "| Pycharm |\n",
    "| Spyder |\n",
    "| RStudio |"
   ]
  },
  {
   "cell_type": "markdown",
   "id": "a5d01560-613b-4497-bcfa-635d6c2e0f3d",
   "metadata": {},
   "source": [
    "### Below are a few examples of evaluating arithmetic expressions in Python"
   ]
  },
  {
   "cell_type": "code",
   "execution_count": 2,
   "id": "fd315fca-11a4-46f3-8e28-7f6287512950",
   "metadata": {
    "tags": []
   },
   "outputs": [
    {
     "data": {
      "text/plain": [
       "17"
      ]
     },
     "execution_count": 2,
     "metadata": {},
     "output_type": "execute_result"
    }
   ],
   "source": [
    "# This a simple arithmetic expression to mutiply then add integers\n",
    "(3*4)+5"
   ]
  },
  {
   "cell_type": "code",
   "execution_count": 3,
   "id": "5ff2695e-7b6a-4c27-902b-ff5840382d26",
   "metadata": {
    "tags": []
   },
   "outputs": [
    {
     "data": {
      "text/plain": [
       "3.3333333333333335"
      ]
     },
     "execution_count": 3,
     "metadata": {},
     "output_type": "execute_result"
    }
   ],
   "source": [
    "# This will convert 200 minutes to hours by diving by 60\n",
    "200 *(1/60)"
   ]
  },
  {
   "cell_type": "code",
   "execution_count": null,
   "id": "cafb4f71-1fac-4ae0-8cb8-9d5ef0e683e0",
   "metadata": {},
   "outputs": [],
   "source": []
  }
 ],
 "metadata": {
  "kernelspec": {
   "display_name": "Python",
   "language": "python",
   "name": "conda-env-python-py"
  },
  "language_info": {
   "codemirror_mode": {
    "name": "ipython",
    "version": 3
   },
   "file_extension": ".py",
   "mimetype": "text/x-python",
   "name": "python",
   "nbconvert_exporter": "python",
   "pygments_lexer": "ipython3",
   "version": "3.7.12"
  }
 },
 "nbformat": 4,
 "nbformat_minor": 5
}
